{
 "cells": [
  {
   "cell_type": "code",
   "execution_count": 24,
   "metadata": {},
   "outputs": [],
   "source": [
    "using Revise\n",
    "using GeometryBasics: Vec3f, Point3f\n",
    "using LinearAlgebra\n",
    "using GLMakie\n",
    "using StaticArrays\n",
    "using VMRobotControl\n",
    "using VMRobotControl.Splines: CubicSpline\n",
    "using DifferentialEquations\n",
    "using MeshIO\n",
    "using CSV, DataFrames\n",
    "using Interpolations"
   ]
  },
  {
   "cell_type": "markdown",
   "metadata": {},
   "source": [
    "## Importing ShadowHand URDF"
   ]
  },
  {
   "cell_type": "code",
   "execution_count": null,
   "metadata": {},
   "outputs": [
    {
     "data": {
      "text/plain": [
       "24DOF Mechanism{Float64} \"shadowhand_motor\" with 33 frames, 32 joints, 55 coordinates, 82 components"
      ]
     },
     "metadata": {},
     "output_type": "display_data"
    }
   ],
   "source": [
    "using FileIO, UUIDs\n",
    "try\n",
    "    FileIO.add_format(format\"DAE\", (), \".dae\", [:DigitalAssetExchangeFormatIO => UUID(\"43182933-f65b-495a-9e05-4d939cea427d\")])\n",
    "catch\n",
    "end\n",
    "\n",
    "\n",
    "module_path = joinpath(splitpath(splitdir(pathof(VMRobotControl))[1])[1:end-1])\n",
    "shadow_cfg = URDFParserConfig(;suppress_warnings=true) # This is just to hide warnings about unsupported URDF features\n",
    "shadow_robot = parseURDF(joinpath(module_path, \"URDFs/sr_description/sr_hand_vm_compatible.urdf\"), shadow_cfg)\n",
    "\n",
    "vm_cfg = URDFParserConfig(;suppress_warnings=true) \n",
    "vm_robot = parseURDF(joinpath(module_path, \"URDFs/sr_description/sr_hand_vm_compatible.urdf\"), vm_cfg) "
   ]
  },
  {
   "cell_type": "markdown",
   "metadata": {},
   "source": [
    "## Building the Virtual Mechanism"
   ]
  },
  {
   "cell_type": "code",
   "execution_count": 26,
   "metadata": {},
   "outputs": [
    {
     "data": {
      "text/plain": [
       "VirtualMechanismSystem 'myShadowVMS' with robot `shadowhand_motor`, and virtual mechanism `shadowhand_motor`."
      ]
     },
     "metadata": {},
     "output_type": "display_data"
    }
   ],
   "source": [
    "vms = VirtualMechanismSystem(\"myShadowVMS\", shadow_robot, vm_robot)"
   ]
  },
  {
   "cell_type": "markdown",
   "metadata": {},
   "source": [
    "## Animating Solution"
   ]
  },
  {
   "cell_type": "markdown",
   "metadata": {},
   "source": [
    "### Loading CSV"
   ]
  },
  {
   "cell_type": "code",
   "execution_count": null,
   "metadata": {},
   "outputs": [],
   "source": [
    "df = CSV.read(\"shadowhand_feedback_0.001.csv\", DataFrame)\n",
    "\n",
    "t_data = df[:, 1] .- df[1, 1]  \n",
    "\n",
    "q_data = Matrix(df[:, 2:end])  \n",
    "\n",
    "robot_reorder_idxs = zeros(Int,24)\n",
    "\n",
    "joint_names = [\"rh_WRJ1\", \"rh_WRJ2\", \"rh_FFJ1\", \"rh_FFJ2\", \"rh_FFJ3\", \"rh_FFJ4\", \"rh_MFJ1\",\n",
    "                \"rh_MFJ2\", \"rh_MFJ3\", \"rh_MFJ4\", \"rh_RFJ1\", \"rh_RFJ2\", \"rh_RFJ3\", \"rh_RFJ4\", \n",
    "                \"rh_LFJ1\", \"rh_LFJ2\", \"rh_LFJ3\", \"rh_LFJ4\", \"rh_LFJ5\", \"rh_THJ1\", \"rh_THJ2\", \n",
    "                \"rh_THJ3\", \"rh_THJ4\", \"rh_THJ5\"]\n",
    "\n",
    "vms_compiled = compile(vms)\n",
    "\n",
    "for i in 1:length(joint_names)\n",
    "    joint_id = get_compiled_jointID(vms_compiled.robot, joint_names[i])\n",
    "    joint = vms_compiled.robot[joint_id]\n",
    "    joint_idx = q_idxs(joint)\n",
    "    robot_reorder_idxs[joint_idx] = i\n",
    "end\n",
    "\n",
    "vm_reorder_idxs = robot_reorder_idxs .+ 24\n",
    "reorder_idxs = vcat(robot_reorder_idxs, vm_reorder_idxs)\n",
    "\n",
    "q_data = q_data[:, reorder_idxs];"
   ]
  },
  {
   "cell_type": "markdown",
   "metadata": {},
   "source": [
    "### Creation of a fake ODE solution"
   ]
  },
  {
   "cell_type": "code",
   "execution_count": null,
   "metadata": {},
   "outputs": [],
   "source": [
    "joint_interpolations = [extrapolate(interpolate((t_data,), q_data[:, j], Gridded(Linear())), Line()) for j in 1:size(q_data, 2)]\n",
    "\n",
    "# Custom struct to mimic an ODESolution\n",
    "struct FakeODESolution\n",
    "    t::Vector{Float64}\n",
    "    interps::Vector{Interpolations.Extrapolation} \n",
    "end\n",
    "\n",
    "function (sol::FakeODESolution)(t::Float64)\n",
    "    return vcat([interp(t) for interp in sol.interps], zeros(length(sol.interps)))  # Return a vector of interpolated values\n",
    "end\n",
    "\n",
    "sol = FakeODESolution(t_data, joint_interpolations);\n"
   ]
  },
  {
   "cell_type": "code",
   "execution_count": 97,
   "metadata": {},
   "outputs": [
    {
     "name": "stderr",
     "output_type": "stream",
     "text": [
      "┌ Info: Fastforwarding animation at 1.9530548413594564× speed, so that it plays in 15 seconds (was 29.295822620391846 seconds).\n",
      "└ @ VMRobotControlMakieExt C:\\Users\\bilou\\OneDrive\\Documents\\Ecole\\MASTER2\\TFE\\Julia Simulator\\VMRobotControl.jl\\ext\\VMRobotControlMakieExt.jl:651\n"
     ]
    }
   ],
   "source": [
    "fig = Figure(; size=(720, 720), figure_padding=0)\n",
    "display(fig)\n",
    "ls = LScene(fig[1, 1]; show_axis=false)\n",
    "cam = cam3d!(ls; zoom_shift_lookat = true)\n",
    "cam.lookat[] = [0.0, 0., 0.5]\n",
    "cam.eyeposition[] = [0.001, -0.0, 0.5]\n",
    "\n",
    "plotting_t = Observable(0.0)\n",
    "plotting_kcache = Observable(new_kinematics_cache(compile(vms)))\n",
    "\n",
    "plotting_robot_kcache = map(plotting_kcache) do k\n",
    "    VMRobotControl.robot_cache(k)\n",
    "end\n",
    "robotsketch!(ls, plotting_robot_kcache; scale = 0.02, linecolor = :red)\n",
    "\n",
    "plotting_vm_kcache = map(plotting_kcache) do k\n",
    "    VMRobotControl.virtual_mechanism_cache(k)\n",
    "end\n",
    "robotsketch!(ls, plotting_vm_kcache; scale = 0.02)\n",
    "\n",
    "savepath = joinpath(module_path, \"docs/src/assets/animation_feedback_0.001.mp4\")\n",
    "display(fig)\n",
    "animate_robot_odesolution(fig, sol, plotting_kcache, savepath; t=plotting_t);"
   ]
  }
 ],
 "metadata": {
  "kernelspec": {
   "display_name": "Julia 1.9.3",
   "language": "julia",
   "name": "julia-1.9"
  },
  "language_info": {
   "file_extension": ".jl",
   "mimetype": "application/julia",
   "name": "julia",
   "version": "1.9.3"
  }
 },
 "nbformat": 4,
 "nbformat_minor": 2
}
